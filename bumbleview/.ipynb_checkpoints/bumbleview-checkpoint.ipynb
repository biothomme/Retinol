{
 "cells": [
  {
   "cell_type": "markdown",
   "id": "breeding-authority",
   "metadata": {},
   "source": [
    "# be humble view bumble"
   ]
  },
  {
   "cell_type": "code",
   "execution_count": 2,
   "id": "elect-index",
   "metadata": {},
   "outputs": [],
   "source": [
    "import convwale"
   ]
  },
  {
   "cell_type": "code",
   "execution_count": 1,
   "id": "stylish-feedback",
   "metadata": {},
   "outputs": [
    {
     "ename": "NameError",
     "evalue": "name 'convwale' is not defined",
     "output_type": "error",
     "traceback": [
      "\u001b[0;31m---------------------------------------------------------------------------\u001b[0m",
      "\u001b[0;31mNameError\u001b[0m                                 Traceback (most recent call last)",
      "\u001b[0;32m<ipython-input-1-60ed90e56c2b>\u001b[0m in \u001b[0;36m<module>\u001b[0;34m\u001b[0m\n\u001b[1;32m      1\u001b[0m \u001b[0;32mimport\u001b[0m \u001b[0mimportlib\u001b[0m\u001b[0;34m\u001b[0m\u001b[0;34m\u001b[0m\u001b[0m\n\u001b[0;32m----> 2\u001b[0;31m \u001b[0mimportlib\u001b[0m\u001b[0;34m.\u001b[0m\u001b[0mreload\u001b[0m\u001b[0;34m(\u001b[0m\u001b[0mconvwale\u001b[0m\u001b[0;34m)\u001b[0m\u001b[0;34m\u001b[0m\u001b[0;34m\u001b[0m\u001b[0m\n\u001b[0m",
      "\u001b[0;31mNameError\u001b[0m: name 'convwale' is not defined"
     ]
    }
   ],
   "source": [
    "import importlib\n",
    "importlib.reload(convwale)"
   ]
  },
  {
   "cell_type": "markdown",
   "id": "sudden-buffer",
   "metadata": {},
   "source": [
    "## Upload a floral emission spectrum"
   ]
  },
  {
   "cell_type": "markdown",
   "id": "regional-guatemala",
   "metadata": {},
   "source": [
    "Please add a csv file (tab, comma or semicolon seperated) without header and rownames. The first column should reflect the wavelengths in nm, the following columns, the emmission spectra of each sample."
   ]
  },
  {
   "cell_type": "code",
   "execution_count": 4,
   "id": "contemporary-configuration",
   "metadata": {
    "scrolled": true
   },
   "outputs": [
    {
     "data": {
      "application/vnd.jupyter.widget-view+json": {
       "model_id": "363af75ec1564609a70ca580d4c9ab13",
       "version_major": 2,
       "version_minor": 0
      },
      "text/plain": [
       "FileUpload(value={}, accept='.csv', description='Upload')"
      ]
     },
     "metadata": {},
     "output_type": "display_data"
    }
   ],
   "source": [
    "wl_uploader = convwale.input_flowers()"
   ]
  },
  {
   "cell_type": "markdown",
   "id": "ordered-factor",
   "metadata": {},
   "source": [
    "Please add an additional csv file with meta information about all the samples. Four columns of information are implemented: \"Genus\", \"Species\", \"Leaf area\", \"Additional information/sample number\". All those columns can be used for other kinds of information, but the terminology will stay like that until the end of the script."
   ]
  },
  {
   "cell_type": "code",
   "execution_count": 5,
   "id": "signal-technique",
   "metadata": {},
   "outputs": [
    {
     "data": {
      "application/vnd.jupyter.widget-view+json": {
       "model_id": "3fed0e1950e846db9006b8987d815c2a",
       "version_major": 2,
       "version_minor": 0
      },
      "text/plain": [
       "FileUpload(value={}, accept='.csv', description='Upload')"
      ]
     },
     "metadata": {},
     "output_type": "display_data"
    }
   ],
   "source": [
    "meta_uploader = convwale.input_flowers()"
   ]
  },
  {
   "cell_type": "code",
   "execution_count": 7,
   "id": "infectious-sphere",
   "metadata": {},
   "outputs": [],
   "source": [
    "wl_df = convwale.parse_flowers(wl_uploader)\n",
    "meta_df = convwale.parse_flowers(meta_uploader)\n",
    "\n",
    "flowers = convwale.new_floral_spectra(wl_df, meta_df)"
   ]
  },
  {
   "cell_type": "markdown",
   "id": "neutral-glass",
   "metadata": {},
   "source": [
    "## Select genus and leaf area"
   ]
  },
  {
   "cell_type": "code",
   "execution_count": 8,
   "id": "composed-possession",
   "metadata": {},
   "outputs": [
    {
     "data": {
      "application/vnd.jupyter.widget-view+json": {
       "model_id": "10d103b9c1ba42f38aee2a37aa952d2f",
       "version_major": 2,
       "version_minor": 0
      },
      "text/plain": [
       "Dropdown(description='Genus:', options=(('Rhododendron', 0), ('Silene_acaulis', 1), ('Primula', 2), ('Gentiana…"
      ]
     },
     "metadata": {},
     "output_type": "display_data"
    }
   ],
   "source": [
    "genus_choice = flowers.select_key()"
   ]
  },
  {
   "cell_type": "code",
   "execution_count": 9,
   "id": "boolean-triumph",
   "metadata": {
    "scrolled": true
   },
   "outputs": [
    {
     "data": {
      "application/vnd.jupyter.widget-view+json": {
       "model_id": "3443f5beaf644f71875f2117002d29c4",
       "version_major": 2,
       "version_minor": 0
      },
      "text/plain": [
       "Dropdown(description='Area:', options=(('dors', 0), ('ventr', 1), (None, 2)), value=0)"
      ]
     },
     "metadata": {},
     "output_type": "display_data"
    }
   ],
   "source": [
    "area_choice = flowers.select_key(key=\"area\", genus_choice=genus_choice)"
   ]
  },
  {
   "cell_type": "code",
   "execution_count": 10,
   "id": "italic-fifty",
   "metadata": {},
   "outputs": [],
   "source": [
    "genus = convwale.get_dropdown_value(genus_choice)\n",
    "area = convwale.get_dropdown_value(area_choice)"
   ]
  },
  {
   "cell_type": "markdown",
   "id": "sunrise-monkey",
   "metadata": {},
   "source": [
    "## Plot the physical spectra"
   ]
  },
  {
   "cell_type": "markdown",
   "id": "final-hungarian",
   "metadata": {},
   "source": [
    "### Wavelength spectra"
   ]
  },
  {
   "cell_type": "code",
   "execution_count": null,
   "id": "least-palace",
   "metadata": {},
   "outputs": [],
   "source": [
    "fig = flowers.plot_wl_spectra(genus, area)\n",
    "fig.show()"
   ]
  },
  {
   "cell_type": "code",
   "execution_count": null,
   "id": "prompt-joseph",
   "metadata": {},
   "outputs": [],
   "source": [
    "flowers.plot_all_inclusive(plot_type=\"wl_spectra\")"
   ]
  },
  {
   "cell_type": "markdown",
   "id": "dependent-broadway",
   "metadata": {},
   "source": [
    "### PCA"
   ]
  },
  {
   "cell_type": "code",
   "execution_count": null,
   "id": "binding-hindu",
   "metadata": {},
   "outputs": [],
   "source": [
    "fig = flowers.plot_triangle(genus=genus, area=area)\n",
    "fig.show()"
   ]
  },
  {
   "cell_type": "code",
   "execution_count": null,
   "id": "brilliant-american",
   "metadata": {},
   "outputs": [],
   "source": [
    "flowers.plot_all_inclusive(plot_type=\"pca_physical\")"
   ]
  },
  {
   "cell_type": "markdown",
   "id": "solar-filter",
   "metadata": {},
   "source": [
    "## Plot insect vision"
   ]
  },
  {
   "cell_type": "markdown",
   "id": "immune-dispatch",
   "metadata": {},
   "source": [
    "### Hexagon"
   ]
  },
  {
   "cell_type": "code",
   "execution_count": null,
   "id": "polar-marketing",
   "metadata": {},
   "outputs": [],
   "source": [
    "fig = flowers.plot_hexagon(genus=genus, area=area)\n",
    "fig.show()"
   ]
  },
  {
   "cell_type": "code",
   "execution_count": null,
   "id": "increasing-commissioner",
   "metadata": {},
   "outputs": [],
   "source": [
    "flowers.plot_all_inclusive(plot_type=\"hexagon\")"
   ]
  },
  {
   "cell_type": "markdown",
   "id": "radical-steps",
   "metadata": {},
   "source": [
    "### Triangle"
   ]
  },
  {
   "cell_type": "code",
   "execution_count": null,
   "id": "representative-qualification",
   "metadata": {},
   "outputs": [],
   "source": [
    "fig = flowers.plot_triangle(genus=genus, area=area)\n",
    "fig.show()"
   ]
  },
  {
   "cell_type": "code",
   "execution_count": null,
   "id": "advance-signature",
   "metadata": {},
   "outputs": [],
   "source": [
    "flowers.plot_all_inclusive(plot_type=\"triangle\")"
   ]
  },
  {
   "cell_type": "markdown",
   "id": "tough-peter",
   "metadata": {},
   "source": [
    "### PCA"
   ]
  },
  {
   "cell_type": "code",
   "execution_count": null,
   "id": "regulated-transportation",
   "metadata": {},
   "outputs": [],
   "source": [
    "fig = flowers.plot_triangle(genus=genus, area=area)\n",
    "fig.show()"
   ]
  },
  {
   "cell_type": "code",
   "execution_count": null,
   "id": "active-fence",
   "metadata": {},
   "outputs": [],
   "source": [
    "flowers.plot_all_inclusive(plot_type=\"pca_insect_vision\")"
   ]
  },
  {
   "cell_type": "markdown",
   "id": "loaded-championship",
   "metadata": {},
   "source": [
    "### Pairwise color distances"
   ]
  },
  {
   "cell_type": "markdown",
   "id": "distinguished-fruit",
   "metadata": {},
   "source": [
    "#### Dendrogram"
   ]
  },
  {
   "cell_type": "code",
   "execution_count": null,
   "id": "excellent-coral",
   "metadata": {},
   "outputs": [],
   "source": [
    "fig = flowers.plot_triangle(genus=genus, area=area)\n",
    "fig.show()"
   ]
  },
  {
   "cell_type": "code",
   "execution_count": 11,
   "id": "optical-schema",
   "metadata": {},
   "outputs": [
    {
     "ename": "TypeError",
     "evalue": "unhashable type: 'set'",
     "output_type": "error",
     "traceback": [
      "\u001b[0;31m---------------------------------------------------------------------------\u001b[0m",
      "\u001b[0;31mTypeError\u001b[0m                                 Traceback (most recent call last)",
      "\u001b[0;32m<ipython-input-11-c96419fb5554>\u001b[0m in \u001b[0;36m<module>\u001b[0;34m\u001b[0m\n\u001b[0;32m----> 1\u001b[0;31m \u001b[0mflowers\u001b[0m\u001b[0;34m.\u001b[0m\u001b[0mplot_all_inclusive\u001b[0m\u001b[0;34m(\u001b[0m\u001b[0mplot_type\u001b[0m\u001b[0;34m=\u001b[0m\u001b[0;34m\"dendrogram\"\u001b[0m\u001b[0;34m)\u001b[0m\u001b[0;34m\u001b[0m\u001b[0;34m\u001b[0m\u001b[0m\n\u001b[0m",
      "\u001b[0;32m~/Desktop/island_in_the_sun/python/2021_03_bumbleview/bumbleview/bumbleview/convwale.py\u001b[0m in \u001b[0;36mplot_all_inclusive\u001b[0;34m(self, plot_type)\u001b[0m\n\u001b[1;32m    449\u001b[0m                 \u001b[0;32melif\u001b[0m \u001b[0mplot_type\u001b[0m \u001b[0;34m==\u001b[0m \u001b[0;34m\"dendrogram\"\u001b[0m\u001b[0;34m:\u001b[0m\u001b[0;34m\u001b[0m\u001b[0;34m\u001b[0m\u001b[0m\n\u001b[1;32m    450\u001b[0m                     self.plot_distances(\n\u001b[0;32m--> 451\u001b[0;31m                         genus=genus, area=area, plot_type=\"dendrogram\")\n\u001b[0m\u001b[1;32m    452\u001b[0m                 \u001b[0;32melse\u001b[0m\u001b[0;34m:\u001b[0m\u001b[0;34m\u001b[0m\u001b[0;34m\u001b[0m\u001b[0m\n\u001b[1;32m    453\u001b[0m                     \u001b[0mprint\u001b[0m\u001b[0;34m(\u001b[0m\u001b[0;34mf\"Plotting type {plot_type} was not recognized.\"\u001b[0m\u001b[0;34m)\u001b[0m\u001b[0;34m\u001b[0m\u001b[0;34m\u001b[0m\u001b[0m\n",
      "\u001b[0;32m~/Desktop/island_in_the_sun/python/2021_03_bumbleview/bumbleview/bumbleview/convwale.py\u001b[0m in \u001b[0;36mplot_distances\u001b[0;34m(self, genus, area, plot_type, show_fig)\u001b[0m\n\u001b[1;32m    355\u001b[0m                     df = self.subset_plotting_frame(\n\u001b[1;32m    356\u001b[0m                         df.transpose(), genus=genus, area=area)\n\u001b[0;32m--> 357\u001b[0;31m                 \u001b[0mfig\u001b[0m \u001b[0;34m=\u001b[0m \u001b[0mPLOT_TYPE_DICT\u001b[0m\u001b[0;34m[\u001b[0m\u001b[0mplot_type\u001b[0m\u001b[0;34m]\u001b[0m\u001b[0;34m(\u001b[0m\u001b[0mdf\u001b[0m\u001b[0;34m)\u001b[0m\u001b[0;34m\u001b[0m\u001b[0;34m\u001b[0m\u001b[0m\n\u001b[0m\u001b[1;32m    358\u001b[0m                 checkmake_dir_existence(\n\u001b[1;32m    359\u001b[0m                     f\"{self.directory}/color_dist_{plot_type}\")\n",
      "\u001b[0;32m~/Desktop/island_in_the_sun/python/2021_03_bumbleview/bumbleview/bumbleview/plotting.py\u001b[0m in \u001b[0;36mdistance_dendrogram\u001b[0;34m(pairwise_color_df)\u001b[0m\n\u001b[1;32m    243\u001b[0m             for i, x in enumerate(taxon_short_names)}\n\u001b[1;32m    244\u001b[0m     \u001b[0;32melse\u001b[0m\u001b[0;34m:\u001b[0m\u001b[0;34m\u001b[0m\u001b[0;34m\u001b[0m\u001b[0m\n\u001b[0;32m--> 245\u001b[0;31m         \u001b[0mcolor_dict\u001b[0m \u001b[0;34m=\u001b[0m \u001b[0;34m{\u001b[0m\u001b[0mtaxon_short_names\u001b[0m\u001b[0;34m:\u001b[0m \u001b[0;36m1\u001b[0m\u001b[0;34m}\u001b[0m\u001b[0;34m\u001b[0m\u001b[0;34m\u001b[0m\u001b[0m\n\u001b[0m\u001b[1;32m    246\u001b[0m     \u001b[0mlabels\u001b[0m \u001b[0;34m=\u001b[0m \u001b[0max\u001b[0m\u001b[0;34m.\u001b[0m\u001b[0mget_xmajorticklabels\u001b[0m\u001b[0;34m(\u001b[0m\u001b[0;34m)\u001b[0m\u001b[0;34m\u001b[0m\u001b[0;34m\u001b[0m\u001b[0m\n\u001b[1;32m    247\u001b[0m     \u001b[0;32mfor\u001b[0m \u001b[0mlabel\u001b[0m \u001b[0;32min\u001b[0m \u001b[0mlabels\u001b[0m\u001b[0;34m:\u001b[0m\u001b[0;34m\u001b[0m\u001b[0;34m\u001b[0m\u001b[0m\n",
      "\u001b[0;31mTypeError\u001b[0m: unhashable type: 'set'"
     ]
    },
    {
     "data": {
      "image/png": "[encoded data removed]",
      "text/plain": [
       "<Figure size 576x432 with 1 Axes>"
      ]
     },
     "metadata": {
      "needs_background": "light"
     },
     "output_type": "display_data"
    }
   ],
   "source": [
    "flowers.plot_all_inclusive(plot_type=\"dendrogram\")"
   ]
  },
  {
   "cell_type": "markdown",
   "id": "cloudy-pipeline",
   "metadata": {},
   "source": [
    "#### Heatmap"
   ]
  },
  {
   "cell_type": "code",
   "execution_count": null,
   "id": "external-interval",
   "metadata": {},
   "outputs": [],
   "source": [
    "fig = flowers.plot_triangle(genus=genus, area=area)\n",
    "fig.show()"
   ]
  },
  {
   "cell_type": "code",
   "execution_count": null,
   "id": "constitutional-assets",
   "metadata": {},
   "outputs": [],
   "source": [
    "flowers.plot_all_inclusive(plot_type=\"heatmap\")"
   ]
  },
  {
   "cell_type": "markdown",
   "id": "alternate-worcester",
   "metadata": {},
   "source": [
    "## Download all plots"
   ]
  },
  {
   "cell_type": "code",
   "execution_count": null,
   "id": "capital-crash",
   "metadata": {},
   "outputs": [],
   "source": [
    "flowers.download_data()"
   ]
  },
  {
   "cell_type": "markdown",
   "id": "cooked-kenya",
   "metadata": {},
   "source": [
    "## Clean up temporary directory"
   ]
  },
  {
   "cell_type": "code",
   "execution_count": null,
   "id": "chief-worship",
   "metadata": {},
   "outputs": [],
   "source": [
    "flowers.close_temporary_dir()"
   ]
  }
 ],
 "metadata": {
  "kernelspec": {
   "display_name": "Python 3",
   "language": "python",
   "name": "python3"
  },
  "language_info": {
   "codemirror_mode": {
    "name": "ipython",
    "version": 3
   },
   "file_extension": ".py",
   "mimetype": "text/x-python",
   "name": "python",
   "nbconvert_exporter": "python",
   "pygments_lexer": "ipython3",
   "version": "3.7.7"
  }
 },
 "nbformat": 4,
 "nbformat_minor": 5
}
