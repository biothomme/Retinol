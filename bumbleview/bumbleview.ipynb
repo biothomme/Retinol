{
 "cells": [
  {
   "cell_type": "markdown",
   "id": "breeding-authority",
   "metadata": {},
   "source": [
    "# be humble view bumble"
   ]
  },
  {
   "cell_type": "code",
   "execution_count": 2,
   "id": "elect-index",
   "metadata": {},
   "outputs": [],
   "source": [
    "import convwale"
   ]
  },
  {
   "cell_type": "code",
   "execution_count": 48,
   "id": "stylish-feedback",
   "metadata": {},
   "outputs": [
    {
     "data": {
      "text/plain": [
       "<module 'convwale' from '/Users/Thomsn/Desktop/island_in_the_sun/python/2021_03_bumbleview/bumbleview/bumbleview/convwale.py'>"
      ]
     },
     "execution_count": 48,
     "metadata": {},
     "output_type": "execute_result"
    }
   ],
   "source": [
    "import importlib\n",
    "importlib.reload(convwale)"
   ]
  },
  {
   "cell_type": "markdown",
   "id": "sudden-buffer",
   "metadata": {},
   "source": [
    "## Upload a floral emission spectrum"
   ]
  },
  {
   "cell_type": "markdown",
   "id": "regional-guatemala",
   "metadata": {},
   "source": [
    "Please add a csv file (tab, comma or semicolon seperated) without header and rownames. The first column should reflect the wavelengths in nm, the following columns, the emmission spectra of each sample."
   ]
  },
  {
   "cell_type": "code",
   "execution_count": 3,
   "id": "contemporary-configuration",
   "metadata": {
    "scrolled": true
   },
   "outputs": [
    {
     "data": {
      "application/vnd.jupyter.widget-view+json": {
       "model_id": "3aff09accab84788ad4f2d423cbe915e",
       "version_major": 2,
       "version_minor": 0
      },
      "text/plain": [
       "FileUpload(value={}, accept='.csv', description='Upload')"
      ]
     },
     "metadata": {},
     "output_type": "display_data"
    }
   ],
   "source": [
    "wl_uploader = convwale.input_flowers()"
   ]
  },
  {
   "cell_type": "markdown",
   "id": "ordered-factor",
   "metadata": {},
   "source": [
    "Please add an additional csv file with meta information about all the samples. Four columns of information are implemented: \"Genus\", \"Species\", \"Leaf area\", \"Additional information/sample number\". All those columns can be used for other kinds of information, but the terminology will stay like that until the end of the script."
   ]
  },
  {
   "cell_type": "code",
   "execution_count": 4,
   "id": "signal-technique",
   "metadata": {},
   "outputs": [
    {
     "data": {
      "application/vnd.jupyter.widget-view+json": {
       "model_id": "f8b62a8c91ca4199a8b2ed027a4630be",
       "version_major": 2,
       "version_minor": 0
      },
      "text/plain": [
       "FileUpload(value={}, accept='.csv', description='Upload')"
      ]
     },
     "metadata": {},
     "output_type": "display_data"
    }
   ],
   "source": [
    "meta_uploader = convwale.input_flowers()"
   ]
  },
  {
   "cell_type": "code",
   "execution_count": 49,
   "id": "infectious-sphere",
   "metadata": {},
   "outputs": [],
   "source": [
    "wl_df = convwale.parse_flowers(wl_uploader)\n",
    "meta_df = convwale.parse_flowers(meta_uploader)\n",
    "\n",
    "flowers = convwale.new_floral_spectra(wl_df, meta_df)"
   ]
  },
  {
   "cell_type": "markdown",
   "id": "neutral-glass",
   "metadata": {},
   "source": [
    "## Select genus and leaf area"
   ]
  },
  {
   "cell_type": "code",
   "execution_count": 6,
   "id": "composed-possession",
   "metadata": {},
   "outputs": [
    {
     "data": {
      "application/vnd.jupyter.widget-view+json": {
       "model_id": "c5568e07324d474d88be89fdf6e9523c",
       "version_major": 2,
       "version_minor": 0
      },
      "text/plain": [
       "Dropdown(description='Genus:', options=(('Rhododendron', 0), ('Primula', 1), ('Gentiana', 2), ('Silene_acaulis…"
      ]
     },
     "metadata": {},
     "output_type": "display_data"
    }
   ],
   "source": [
    "genus_choice = flowers.select_key()"
   ]
  },
  {
   "cell_type": "code",
   "execution_count": 7,
   "id": "boolean-triumph",
   "metadata": {
    "scrolled": true
   },
   "outputs": [
    {
     "data": {
      "application/vnd.jupyter.widget-view+json": {
       "model_id": "f53c4fabef7f4c9787615532fbbcaf38",
       "version_major": 2,
       "version_minor": 0
      },
      "text/plain": [
       "Dropdown(description='Area:', options=(('ventr', 0), ('dors', 1), (None, 2)), value=0)"
      ]
     },
     "metadata": {},
     "output_type": "display_data"
    }
   ],
   "source": [
    "area_choice = flowers.select_key(key=\"area\", genus_choice=genus_choice)"
   ]
  },
  {
   "cell_type": "code",
   "execution_count": 12,
   "id": "italic-fifty",
   "metadata": {},
   "outputs": [],
   "source": [
    "genus = convwale.get_dropdown_value(genus_choice)\n",
    "area = convwale.get_dropdown_value(area_choice)"
   ]
  },
  {
   "cell_type": "markdown",
   "id": "sunrise-monkey",
   "metadata": {},
   "source": [
    "## Plot the physical spectra"
   ]
  },
  {
   "cell_type": "code",
   "execution_count": null,
   "id": "least-palace",
   "metadata": {},
   "outputs": [],
   "source": [
    "fig = flowers.plot_wl_spectra(genus, area)\n",
    "fig.show()"
   ]
  },
  {
   "cell_type": "code",
   "execution_count": 50,
   "id": "prompt-joseph",
   "metadata": {},
   "outputs": [
    {
     "name": "stderr",
     "output_type": "stream",
     "text": [
      "/Users/Thomsn/opt/anaconda3/lib/python3.7/site-packages/scipy/stats/stats.py:3641: F_onewayConstantInputWarning: Each of the input arrays is constant;the F statistic is not defined or infinite\n",
      "  warnings.warn(F_onewayConstantInputWarning())\n",
      "/Users/Thomsn/opt/anaconda3/lib/python3.7/site-packages/scipy/stats/stats.py:3641: F_onewayConstantInputWarning: Each of the input arrays is constant;the F statistic is not defined or infinite\n",
      "  warnings.warn(F_onewayConstantInputWarning())\n"
     ]
    }
   ],
   "source": [
    "flowers.plot_all_inclusive(plot_type=\"wl_spectra\")"
   ]
  },
  {
   "cell_type": "markdown",
   "id": "solar-filter",
   "metadata": {},
   "source": [
    "## Plot insect vision"
   ]
  },
  {
   "cell_type": "markdown",
   "id": "immune-dispatch",
   "metadata": {},
   "source": [
    "### Hexagon"
   ]
  },
  {
   "cell_type": "code",
   "execution_count": null,
   "id": "polar-marketing",
   "metadata": {},
   "outputs": [],
   "source": [
    "fig = flowers.plot_hexagon(genus=genus, area=area)\n",
    "fig.show()"
   ]
  },
  {
   "cell_type": "code",
   "execution_count": 44,
   "id": "increasing-commissioner",
   "metadata": {},
   "outputs": [],
   "source": [
    "flowers.plot_all_inclusive(plot_type=\"hexagon\")"
   ]
  },
  {
   "cell_type": "markdown",
   "id": "radical-steps",
   "metadata": {},
   "source": [
    "### Triangle"
   ]
  },
  {
   "cell_type": "code",
   "execution_count": null,
   "id": "representative-qualification",
   "metadata": {},
   "outputs": [],
   "source": [
    "fig = flowers.plot_triangle(genus=genus, area=area)\n",
    "fig.show()"
   ]
  },
  {
   "cell_type": "code",
   "execution_count": 45,
   "id": "advance-signature",
   "metadata": {},
   "outputs": [],
   "source": [
    "flowers.plot_all_inclusive(plot_type=\"triangle\")"
   ]
  },
  {
   "cell_type": "markdown",
   "id": "alternate-worcester",
   "metadata": {},
   "source": [
    "## Download all plots"
   ]
  },
  {
   "cell_type": "code",
   "execution_count": 51,
   "id": "capital-crash",
   "metadata": {},
   "outputs": [
    {
     "data": {
      "text/html": [
       "<a href='bumble_view_20210313210918156216.zip' target='_blank'>bumble_view_20210313210918156216.zip</a><br>"
      ],
      "text/plain": [
       "/Users/Thomsn/Desktop/island_in_the_sun/python/2021_03_bumbleview/bumbleview/bumbleview/bumble_view_20210313210918156216.zip"
      ]
     },
     "metadata": {},
     "output_type": "display_data"
    }
   ],
   "source": [
    "flowers.download_data()"
   ]
  },
  {
   "cell_type": "markdown",
   "id": "cooked-kenya",
   "metadata": {},
   "source": [
    "## Clean up temporary directory"
   ]
  },
  {
   "cell_type": "code",
   "execution_count": 47,
   "id": "chief-worship",
   "metadata": {},
   "outputs": [],
   "source": [
    "flowers.close_temporary_dir()"
   ]
  }
 ],
 "metadata": {
  "kernelspec": {
   "display_name": "Python 3",
   "language": "python",
   "name": "python3"
  },
  "language_info": {
   "codemirror_mode": {
    "name": "ipython",
    "version": 3
   },
   "file_extension": ".py",
   "mimetype": "text/x-python",
   "name": "python",
   "nbconvert_exporter": "python",
   "pygments_lexer": "ipython3",
   "version": "3.7.7"
  }
 },
 "nbformat": 4,
 "nbformat_minor": 5
}
